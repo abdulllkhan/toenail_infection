{
 "cells": [
  {
   "cell_type": "code",
   "execution_count": 75,
   "id": "e7bc1ca3-e0ac-47b8-8454-845faa24422b",
   "metadata": {},
   "outputs": [],
   "source": [
    "# Abdul Samad Zaheer Khan, ak9943@nyu.edu\n",
    "\n",
    "\n",
    "# importing all the necessary libraries\n",
    "import numpy as np\n",
    "import pandas as pd\n",
    "import matplotlib.pyplot as plt\n",
    "\n",
    "from sklearn.linear_model import LogisticRegression\n",
    "from sklearn.metrics import accuracy_score\n",
    "from sklearn.model_selection import train_test_split\n",
    "from sklearn.preprocessing import StandardScaler\n",
    "from sklearn.svm import SVC\n",
    "from sklearn.tree import DecisionTreeClassifier\n",
    "from sklearn.ensemble import RandomForestClassifier"
   ]
  },
  {
   "cell_type": "code",
   "execution_count": 77,
   "id": "463f732c-91ad-4b55-877d-0ec2f287a228",
   "metadata": {},
   "outputs": [],
   "source": [
    "import os\n",
    "from skimage.io import imread\n",
    "\n",
    "# to store infected toe-nail images\n",
    "infected_images = [] \n",
    "# fetching from the folder\n",
    "for img in os.listdir('data/infected'):\n",
    "    infected_images.append(imread('data/infected/' + img))\n",
    "\n",
    "# to store healthy toe-nail images\n",
    "benign_images = []\n",
    "# fetching from the folder\n",
    "for img in os.listdir('data/benign'):\n",
    "   benign_images.append(imread('data/benign/' + img))\n",
    "   \n",
    "X = infected_images + benign_images   # storingg the data\n",
    "\n",
    "# assigning labels to seperate images to classify infected and benign toe-nail images\n",
    "y = [1]*len(infected_images) + [0]*len(benign_images) \n"
   ]
  },
  {
   "cell_type": "code",
   "execution_count": 131,
   "id": "7e2d404e-012d-4d17-9863-e01ffa1a3cba",
   "metadata": {},
   "outputs": [],
   "source": [
    "# preprocessing the images\n",
    "\n",
    "from skimage.io import imread\n",
    "from skimage.transform import resize\n",
    "from skimage.color import rgb2gray\n",
    "import os\n",
    "\n",
    "# fucntion to pre process the images\n",
    "# resizing the images to 64*64 dimensions otherwise every image should be trained individually\n",
    "def preprocess_image(img_path):\n",
    "    img = imread(img_path)\n",
    "\n",
    "    # removing alpha channel if it exists\n",
    "    if img.shape[-1] == 4:\n",
    "        img = img[:, :, :3] \n",
    "\n",
    "    # resizing\n",
    "    img_resized = resize(img, (64, 64), anti_aliasing=True)\n",
    "\n",
    "    # converting the image to grayscale\n",
    "    if len(img_resized.shape) == 3:\n",
    "        img_resized = rgb2gray(img_resized)\n",
    "\n",
    "    return img_resized\n",
    "\n",
    "# preprocess infected toe-nail images\n",
    "infected_images = [preprocess_image(os.path.join('data', 'infected', img)) for img in os.listdir(os.path.join('data', 'infected'))]\n",
    "\n",
    "# preprocess healthy toe-nail images\n",
    "benign_images = [preprocess_image(os.path.join('data', 'benign', img)) for img in os.listdir(os.path.join('data', 'benign'))]\n",
    "\n",
    "# checking if all images have the same shape\n",
    "image_shape = infected_images[0].shape \n",
    "infected_images = [img if img.shape == image_shape else resize(img, image_shape, anti_aliasing=True) for img in infected_images]\n",
    "benign_images = [img if img.shape == image_shape else resize(img, image_shape, anti_aliasing=True) for img in benign_images]\n",
    "\n",
    "# combinign the pre-processsed images\n",
    "X = infected_images + benign_images\n",
    "\n",
    "# converting to NumPY arrays\n",
    "X = np.array(X)\n",
    "y = np.array([1] * len(infected_images) + [0] * len(benign_images))\n"
   ]
  },
  {
   "cell_type": "code",
   "execution_count": 132,
   "id": "42a1aa1b-f4ca-423d-bd07-6b081806a71a",
   "metadata": {},
   "outputs": [
    {
     "name": "stdout",
     "output_type": "stream",
     "text": [
      "[1 1 1 1 1 1 1 1 1 1 1 1 1 1 1 1 1 1 1 1 1 1 1 1 1 1 1 1 1 1 1 1 1 1 1 1 1\n",
      " 1 1 1 1 1 1 1 1 1 1 1 1 1 1 1 1 1 1 1 1 1 1 1 1 1 1 1 1 1 1 1 1 1 1 1 1 1\n",
      " 1 1 1 1 1 1 1 1 1 1 1 1 1 1 1 1 1 1 1 1 1 1 1 1 1 1 1 1 1 1 1 1 1 1 1 1 1\n",
      " 1 1 1 1 1 1 1 1 1 1 1 1 1 1 1 1 1 1 1 1 1 1 1 1 1 1 1 1 1 1 1 1 1 1 1 1 1\n",
      " 1 1 1 1 1 1 1 1 1 1 1 1 1 1 1 1 1 1 1 1 1 1 1 1 1 1 1 1 1 1 1 1 1 1 1 1 1\n",
      " 1 1 1 1 1 1 0 0 0 0 0 0 0 0 0 0 0 0 0 0 0 0 0 0 0 0 0 0 0 0 0 0 0 0 0 0 0\n",
      " 0 0 0 0 0 0 0 0 0 0 0 0 0 0 0 0 0 0 0 0 0 0 0 0 0 0 0 0 0 0 0 0 0 0 0 0 0\n",
      " 0 0 0 0 0 0 0 0 0 0 0 0 0 0 0 0 0 0]\n",
      "Total number of images are: 277\n",
      "\n",
      "\n",
      "Total number of infected toe-nail images are: 191\n",
      "Total number of healthy toe-nail images are: 86\n"
     ]
    }
   ],
   "source": [
    "# printing the labels and the number of labels\n",
    "print(y)\n",
    "print(\"Total number of images are:\", len(y))\n",
    "\n",
    "print(\"\\n\")\n",
    "# printing total number of infected and bening toe-nail images\n",
    "print(\"Total number of infected toe-nail images are:\", len(infected_images))\n",
    "print(\"Total number of healthy toe-nail images are:\", len(benign_images))"
   ]
  },
  {
   "cell_type": "code",
   "execution_count": 133,
   "id": "8e0ead36-fe12-4a2b-a9ba-d05fd9af81f4",
   "metadata": {},
   "outputs": [],
   "source": [
    "# splitting the data into test train components\n",
    "\n",
    "X_train, X_test, y_train, y_test = train_test_split(X, y, test_size = 0.2, random_state = 42)"
   ]
  },
  {
   "cell_type": "code",
   "execution_count": 134,
   "id": "631664d2-c5ef-431e-bfa8-dd5ee5aa22de",
   "metadata": {},
   "outputs": [
    {
     "name": "stdout",
     "output_type": "stream",
     "text": [
      "221\n",
      "221\n",
      "[0 1 1 1 0 0 1 1 1 0 0 1 1 1 1 1 0 1 1 0 0 1 1 1 1 1 0 0 1 0 1 1 0 1 1 1 0\n",
      " 1 0 1 0 1 1 1 1 1 0 1 1 1 1 1 1 1 1 1 1 1 1 0 1 1 1 0 0 0 1 0 1 1 1 1 1 1\n",
      " 1 1 1 1 1 1 0 1 1 1 0 1 1 0 1 1 1 0 1 0 1 0 1 0 0 1 1 1 1 0 1 1 0 0 1 1 1\n",
      " 1 1 1 1 1 0 1 1 1 1 0 0 1 0 1 1 0 1 1 1 0 1 1 0 0 1 1 0 0 1 1 0 0 1 1 1 1\n",
      " 0 1 1 1 1 1 0 1 1 1 1 0 1 0 1 1 0 0 1 1 1 1 1 1 1 1 1 1 1 1 1 1 0 1 0 0 0\n",
      " 1 1 1 1 0 1 0 1 1 0 1 0 1 1 0 1 0 0 1 1 0 0 1 1 1 1 1 0 1 0 1 1 1 1 0 1]\n"
     ]
    }
   ],
   "source": [
    "print(len(X_train))\n",
    "print(len(y_train))\n",
    "print(y_train)"
   ]
  },
  {
   "cell_type": "code",
   "execution_count": 135,
   "id": "984d6021-f2cd-475c-9e34-140960247565",
   "metadata": {},
   "outputs": [],
   "source": [
    "# imprting the CNN model because we are using images\n",
    "\n",
    "from keras.models import Sequential\n",
    "from keras.layers import Conv2D, MaxPooling2D, Flatten, Dense"
   ]
  },
  {
   "cell_type": "code",
   "execution_count": 136,
   "id": "5bc01747-073a-4111-8e90-a3d9f7cadfed",
   "metadata": {},
   "outputs": [],
   "source": [
    "# adding features to the model architecture\n",
    "\n",
    "# calculating the necessary arguments\n",
    "img_height, img_width = X_train[0].shape[:2] \n",
    "input_shape = (64, 64, 1) \n",
    "\n",
    "# defining model architecture\n",
    "model = Sequential()\n",
    "model.add(Conv2D(32, (3, 3), activation='relu', input_shape=input_shape))\n",
    "model.add(MaxPooling2D((2, 2)))\n",
    "model.add(Flatten())\n",
    "model.add(Dense(64, activation='relu'))\n",
    "model.add(Dense(1, activation='sigmoid'))"
   ]
  },
  {
   "cell_type": "code",
   "execution_count": 137,
   "id": "4c5c8612-8506-4e7c-b548-88f6f8926299",
   "metadata": {},
   "outputs": [],
   "source": [
    "# compiling the model\n",
    "\n",
    "model.compile(optimizer='adam', loss='binary_crossentropy', metrics=['accuracy'])\n"
   ]
  },
  {
   "cell_type": "code",
   "execution_count": 138,
   "id": "a01f0874-5041-456a-89b7-94c9b6d29c49",
   "metadata": {},
   "outputs": [
    {
     "name": "stdout",
     "output_type": "stream",
     "text": [
      "Model: \"sequential_9\"\n",
      "_________________________________________________________________\n",
      " Layer (type)                Output Shape              Param #   \n",
      "=================================================================\n",
      " conv2d_6 (Conv2D)           (None, 62, 62, 32)        320       \n",
      "                                                                 \n",
      " max_pooling2d_6 (MaxPoolin  (None, 31, 31, 32)        0         \n",
      " g2D)                                                            \n",
      "                                                                 \n",
      " flatten_6 (Flatten)         (None, 30752)             0         \n",
      "                                                                 \n",
      " dense_8 (Dense)             (None, 64)                1968192   \n",
      "                                                                 \n",
      " dense_9 (Dense)             (None, 1)                 65        \n",
      "                                                                 \n",
      "=================================================================\n",
      "Total params: 1968577 (7.51 MB)\n",
      "Trainable params: 1968577 (7.51 MB)\n",
      "Non-trainable params: 0 (0.00 Byte)\n",
      "_________________________________________________________________\n"
     ]
    }
   ],
   "source": [
    "# model summary\n",
    "model.summary()"
   ]
  },
  {
   "cell_type": "code",
   "execution_count": 156,
   "id": "73d3e74a-e6f6-4ba2-806b-28e98b34b9e1",
   "metadata": {},
   "outputs": [
    {
     "name": "stdout",
     "output_type": "stream",
     "text": [
      "Epoch 1/20\n",
      "7/7 [==============================] - 0s 14ms/step - loss: 0.2360 - accuracy: 0.8507 - val_loss: 1.1918 - val_accuracy: 0.6607\n",
      "Epoch 2/20\n",
      "7/7 [==============================] - 0s 13ms/step - loss: 0.2441 - accuracy: 0.8281 - val_loss: 1.2933 - val_accuracy: 0.6786\n",
      "Epoch 3/20\n",
      "7/7 [==============================] - 0s 12ms/step - loss: 0.2317 - accuracy: 0.8643 - val_loss: 1.2206 - val_accuracy: 0.6964\n",
      "Epoch 4/20\n",
      "7/7 [==============================] - 0s 12ms/step - loss: 0.2327 - accuracy: 0.8597 - val_loss: 1.2761 - val_accuracy: 0.6786\n",
      "Epoch 5/20\n",
      "7/7 [==============================] - 0s 13ms/step - loss: 0.2307 - accuracy: 0.8643 - val_loss: 1.2507 - val_accuracy: 0.6964\n",
      "Epoch 6/20\n",
      "7/7 [==============================] - 0s 13ms/step - loss: 0.2318 - accuracy: 0.8416 - val_loss: 1.2239 - val_accuracy: 0.6964\n",
      "Epoch 7/20\n",
      "7/7 [==============================] - 0s 12ms/step - loss: 0.2303 - accuracy: 0.8552 - val_loss: 1.2566 - val_accuracy: 0.6607\n",
      "Epoch 8/20\n",
      "7/7 [==============================] - 0s 12ms/step - loss: 0.2353 - accuracy: 0.8507 - val_loss: 1.2896 - val_accuracy: 0.6429\n",
      "Epoch 9/20\n",
      "7/7 [==============================] - 0s 13ms/step - loss: 0.2493 - accuracy: 0.8597 - val_loss: 1.3164 - val_accuracy: 0.6607\n",
      "Epoch 10/20\n",
      "7/7 [==============================] - 0s 13ms/step - loss: 0.2227 - accuracy: 0.8597 - val_loss: 1.1728 - val_accuracy: 0.6429\n",
      "Epoch 11/20\n",
      "7/7 [==============================] - 0s 13ms/step - loss: 0.2357 - accuracy: 0.8371 - val_loss: 1.2370 - val_accuracy: 0.6607\n",
      "Epoch 12/20\n",
      "7/7 [==============================] - 0s 12ms/step - loss: 0.2520 - accuracy: 0.8507 - val_loss: 1.1495 - val_accuracy: 0.6786\n",
      "Epoch 13/20\n",
      "7/7 [==============================] - 0s 12ms/step - loss: 0.2331 - accuracy: 0.8462 - val_loss: 1.1247 - val_accuracy: 0.6786\n",
      "Epoch 14/20\n",
      "7/7 [==============================] - 0s 12ms/step - loss: 0.2345 - accuracy: 0.8462 - val_loss: 1.1460 - val_accuracy: 0.6964\n",
      "Epoch 15/20\n",
      "7/7 [==============================] - 0s 12ms/step - loss: 0.2343 - accuracy: 0.8371 - val_loss: 1.1742 - val_accuracy: 0.6607\n",
      "Epoch 16/20\n",
      "7/7 [==============================] - 0s 12ms/step - loss: 0.2396 - accuracy: 0.8416 - val_loss: 1.2193 - val_accuracy: 0.6964\n",
      "Epoch 17/20\n",
      "7/7 [==============================] - 0s 12ms/step - loss: 0.2281 - accuracy: 0.8688 - val_loss: 1.2024 - val_accuracy: 0.6607\n",
      "Epoch 18/20\n",
      "7/7 [==============================] - 0s 14ms/step - loss: 0.2466 - accuracy: 0.8416 - val_loss: 1.1999 - val_accuracy: 0.6786\n",
      "Epoch 19/20\n",
      "7/7 [==============================] - 0s 13ms/step - loss: 0.2377 - accuracy: 0.8643 - val_loss: 1.2103 - val_accuracy: 0.7143\n",
      "Epoch 20/20\n",
      "7/7 [==============================] - 0s 12ms/step - loss: 0.2371 - accuracy: 0.8552 - val_loss: 1.1866 - val_accuracy: 0.6607\n"
     ]
    }
   ],
   "source": [
    "# fitting the model on the traning dataset\n",
    "\n",
    "# converting data from list datatype of Numpy array\n",
    "X_train = np.array(X_train) \n",
    "y_train = np.array(y_train)\n",
    "\n",
    "history = model.fit(X_train, y_train, epochs = 20, validation_data = (X_test, y_test))\n"
   ]
  },
  {
   "cell_type": "code",
   "execution_count": 157,
   "id": "73d0fcfc-1690-4687-9c1e-1ecda81448df",
   "metadata": {},
   "outputs": [
    {
     "data": {
      "image/png": "[encoded data removed]",
      "text/plain": [
       "<Figure size 1200x400 with 1 Axes>"
      ]
     },
     "metadata": {},
     "output_type": "display_data"
    }
   ],
   "source": [
    "import matplotlib.pyplot as plt\n",
    "\n",
    "# plotting model acccuracy\n",
    "\n",
    "plt.figure(figsize=(12, 4))\n",
    "\n",
    "plt.subplot(1, 2, 1)\n",
    "plt.plot(history.history['accuracy'])\n",
    "plt.plot(history.history['val_accuracy'])\n",
    "plt.title('Model Accuracy')\n",
    "plt.xlabel('Epoch')\n",
    "plt.ylabel('Accuracy')\n",
    "plt.legend(['Train', 'Validation'], loc='upper left')\n",
    "\n",
    "\n",
    "plt.tight_layout()\n",
    "plt.show()\n"
   ]
  },
  {
   "cell_type": "code",
   "execution_count": 158,
   "id": "f97dc703-d849-4d0e-a5ca-845cea23ccc4",
   "metadata": {},
   "outputs": [
    {
     "data": {
      "image/png": "[encoded data removed]",
      "text/plain": [
       "<Figure size 1200x400 with 1 Axes>"
      ]
     },
     "metadata": {},
     "output_type": "display_data"
    }
   ],
   "source": [
    "# plotting model loss\n",
    "\n",
    "plt.figure(figsize=(12, 4))\n",
    "\n",
    "plt.subplot(1, 2, 2)\n",
    "plt.plot(history.history['loss'])\n",
    "plt.plot(history.history['val_loss'])\n",
    "plt.title('Model Loss')\n",
    "plt.xlabel('Epoch')\n",
    "plt.ylabel('Loss')\n",
    "plt.legend(['Train', 'Validation'], loc='upper left')\n",
    "\n",
    "plt.tight_layout()\n",
    "plt.show()"
   ]
  },
  {
   "cell_type": "code",
   "execution_count": 159,
   "id": "b222f97c-926d-40bd-93a1-0d425c4f7241",
   "metadata": {},
   "outputs": [
    {
     "name": "stdout",
     "output_type": "stream",
     "text": [
      "Final Training Accuracy: 0.8552036285400391\n",
      "Final Testing Accuracy: 0.6607142686843872\n"
     ]
    }
   ],
   "source": [
    "final_training_accuracy = history.history['accuracy'][-1]\n",
    "print(f\"Final Training Accuracy:\", final_training_accuracy)\n",
    "\n",
    "# Get the final validation accuracy\n",
    "final_testing_accuracy = history.history['val_accuracy'][-1]\n",
    "print(\"Final Testing Accuracy:\", final_testing_accuracy)"
   ]
  },
  {
   "cell_type": "code",
   "execution_count": 160,
   "id": "23da43d5-aaaa-42ea-839a-d7d8a00bb104",
   "metadata": {},
   "outputs": [
    {
     "name": "stdout",
     "output_type": "stream",
     "text": [
      "done\n"
     ]
    }
   ],
   "source": [
    "print(\"done\")"
   ]
  },
  {
   "cell_type": "code",
   "execution_count": null,
   "id": "c3724aab-b7e7-4d38-a488-16b4da16194e",
   "metadata": {},
   "outputs": [],
   "source": []
  }
 ],
 "metadata": {
  "kernelspec": {
   "display_name": "Python 3 (ipykernel)",
   "language": "python",
   "name": "python3"
  },
  "language_info": {
   "codemirror_mode": {
    "name": "ipython",
    "version": 3
   },
   "file_extension": ".py",
   "mimetype": "text/x-python",
   "name": "python",
   "nbconvert_exporter": "python",
   "pygments_lexer": "ipython3",
   "version": "3.11.5"
  }
 },
 "nbformat": 4,
 "nbformat_minor": 5
}
